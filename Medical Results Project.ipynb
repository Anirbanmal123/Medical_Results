{
 "cells": [
  {
   "cell_type": "code",
   "execution_count": 4,
   "id": "3f6e7516",
   "metadata": {},
   "outputs": [],
   "source": [
    "import numpy as np\n",
    "import pandas as pd\n",
    "import matplotlib.pyplot as plt\n",
    "import seaborn as sns"
   ]
  },
  {
   "cell_type": "code",
   "execution_count": 5,
   "id": "d11315d2",
   "metadata": {
    "scrolled": true
   },
   "outputs": [
    {
     "data": {
      "text/html": [
       "<div>\n",
       "<style scoped>\n",
       "    .dataframe tbody tr th:only-of-type {\n",
       "        vertical-align: middle;\n",
       "    }\n",
       "\n",
       "    .dataframe tbody tr th {\n",
       "        vertical-align: top;\n",
       "    }\n",
       "\n",
       "    .dataframe thead th {\n",
       "        text-align: right;\n",
       "    }\n",
       "</style>\n",
       "<table border=\"1\" class=\"dataframe\">\n",
       "  <thead>\n",
       "    <tr style=\"text-align: right;\">\n",
       "      <th></th>\n",
       "      <th>race</th>\n",
       "      <th>gender</th>\n",
       "      <th>age</th>\n",
       "      <th>weight</th>\n",
       "      <th>admission_type_id</th>\n",
       "      <th>discharge_disposition_id</th>\n",
       "      <th>admission_source_id</th>\n",
       "      <th>time_in_hospital</th>\n",
       "      <th>payer_code</th>\n",
       "      <th>medical_specialty</th>\n",
       "      <th>...</th>\n",
       "      <th>citoglipton</th>\n",
       "      <th>insulin</th>\n",
       "      <th>glyburide-metformin</th>\n",
       "      <th>glipizide-metformin</th>\n",
       "      <th>glimepiride-pioglitazone</th>\n",
       "      <th>metformin-rosiglitazone</th>\n",
       "      <th>metformin-pioglitazone</th>\n",
       "      <th>change</th>\n",
       "      <th>diabetesMed</th>\n",
       "      <th>readmitted_NO</th>\n",
       "    </tr>\n",
       "  </thead>\n",
       "  <tbody>\n",
       "    <tr>\n",
       "      <th>0</th>\n",
       "      <td>Caucasian</td>\n",
       "      <td>Female</td>\n",
       "      <td>[0-10)</td>\n",
       "      <td>?</td>\n",
       "      <td>6</td>\n",
       "      <td>25</td>\n",
       "      <td>1</td>\n",
       "      <td>1</td>\n",
       "      <td>?</td>\n",
       "      <td>Pediatrics-Endocrinology</td>\n",
       "      <td>...</td>\n",
       "      <td>No</td>\n",
       "      <td>No</td>\n",
       "      <td>No</td>\n",
       "      <td>No</td>\n",
       "      <td>No</td>\n",
       "      <td>No</td>\n",
       "      <td>No</td>\n",
       "      <td>No</td>\n",
       "      <td>No</td>\n",
       "      <td>1</td>\n",
       "    </tr>\n",
       "    <tr>\n",
       "      <th>1</th>\n",
       "      <td>Caucasian</td>\n",
       "      <td>Female</td>\n",
       "      <td>[10-20)</td>\n",
       "      <td>?</td>\n",
       "      <td>1</td>\n",
       "      <td>1</td>\n",
       "      <td>7</td>\n",
       "      <td>3</td>\n",
       "      <td>?</td>\n",
       "      <td>?</td>\n",
       "      <td>...</td>\n",
       "      <td>No</td>\n",
       "      <td>Up</td>\n",
       "      <td>No</td>\n",
       "      <td>No</td>\n",
       "      <td>No</td>\n",
       "      <td>No</td>\n",
       "      <td>No</td>\n",
       "      <td>Ch</td>\n",
       "      <td>Yes</td>\n",
       "      <td>0</td>\n",
       "    </tr>\n",
       "    <tr>\n",
       "      <th>2</th>\n",
       "      <td>AfricanAmerican</td>\n",
       "      <td>Female</td>\n",
       "      <td>[20-30)</td>\n",
       "      <td>?</td>\n",
       "      <td>1</td>\n",
       "      <td>1</td>\n",
       "      <td>7</td>\n",
       "      <td>2</td>\n",
       "      <td>?</td>\n",
       "      <td>?</td>\n",
       "      <td>...</td>\n",
       "      <td>No</td>\n",
       "      <td>No</td>\n",
       "      <td>No</td>\n",
       "      <td>No</td>\n",
       "      <td>No</td>\n",
       "      <td>No</td>\n",
       "      <td>No</td>\n",
       "      <td>No</td>\n",
       "      <td>Yes</td>\n",
       "      <td>1</td>\n",
       "    </tr>\n",
       "    <tr>\n",
       "      <th>3</th>\n",
       "      <td>Caucasian</td>\n",
       "      <td>Male</td>\n",
       "      <td>[30-40)</td>\n",
       "      <td>?</td>\n",
       "      <td>1</td>\n",
       "      <td>1</td>\n",
       "      <td>7</td>\n",
       "      <td>2</td>\n",
       "      <td>?</td>\n",
       "      <td>?</td>\n",
       "      <td>...</td>\n",
       "      <td>No</td>\n",
       "      <td>Up</td>\n",
       "      <td>No</td>\n",
       "      <td>No</td>\n",
       "      <td>No</td>\n",
       "      <td>No</td>\n",
       "      <td>No</td>\n",
       "      <td>Ch</td>\n",
       "      <td>Yes</td>\n",
       "      <td>1</td>\n",
       "    </tr>\n",
       "    <tr>\n",
       "      <th>4</th>\n",
       "      <td>Caucasian</td>\n",
       "      <td>Male</td>\n",
       "      <td>[40-50)</td>\n",
       "      <td>?</td>\n",
       "      <td>1</td>\n",
       "      <td>1</td>\n",
       "      <td>7</td>\n",
       "      <td>1</td>\n",
       "      <td>?</td>\n",
       "      <td>?</td>\n",
       "      <td>...</td>\n",
       "      <td>No</td>\n",
       "      <td>Steady</td>\n",
       "      <td>No</td>\n",
       "      <td>No</td>\n",
       "      <td>No</td>\n",
       "      <td>No</td>\n",
       "      <td>No</td>\n",
       "      <td>Ch</td>\n",
       "      <td>Yes</td>\n",
       "      <td>1</td>\n",
       "    </tr>\n",
       "  </tbody>\n",
       "</table>\n",
       "<p>5 rows × 48 columns</p>\n",
       "</div>"
      ],
      "text/plain": [
       "              race  gender      age weight  admission_type_id  \\\n",
       "0        Caucasian  Female   [0-10)      ?                  6   \n",
       "1        Caucasian  Female  [10-20)      ?                  1   \n",
       "2  AfricanAmerican  Female  [20-30)      ?                  1   \n",
       "3        Caucasian    Male  [30-40)      ?                  1   \n",
       "4        Caucasian    Male  [40-50)      ?                  1   \n",
       "\n",
       "   discharge_disposition_id  admission_source_id  time_in_hospital payer_code  \\\n",
       "0                        25                    1                 1          ?   \n",
       "1                         1                    7                 3          ?   \n",
       "2                         1                    7                 2          ?   \n",
       "3                         1                    7                 2          ?   \n",
       "4                         1                    7                 1          ?   \n",
       "\n",
       "          medical_specialty  ...  citoglipton  insulin  glyburide-metformin  \\\n",
       "0  Pediatrics-Endocrinology  ...           No       No                   No   \n",
       "1                         ?  ...           No       Up                   No   \n",
       "2                         ?  ...           No       No                   No   \n",
       "3                         ?  ...           No       Up                   No   \n",
       "4                         ?  ...           No   Steady                   No   \n",
       "\n",
       "   glipizide-metformin  glimepiride-pioglitazone  metformin-rosiglitazone  \\\n",
       "0                   No                        No                       No   \n",
       "1                   No                        No                       No   \n",
       "2                   No                        No                       No   \n",
       "3                   No                        No                       No   \n",
       "4                   No                        No                       No   \n",
       "\n",
       "  metformin-pioglitazone change diabetesMed  readmitted_NO  \n",
       "0                     No     No          No              1  \n",
       "1                     No     Ch         Yes              0  \n",
       "2                     No     No         Yes              1  \n",
       "3                     No     Ch         Yes              1  \n",
       "4                     No     Ch         Yes              1  \n",
       "\n",
       "[5 rows x 48 columns]"
      ]
     },
     "execution_count": 5,
     "metadata": {},
     "output_type": "execute_result"
    }
   ],
   "source": [
    "df = pd.read_csv('TRAIN.csv')\n",
    "df.head()"
   ]
  },
  {
   "cell_type": "code",
   "execution_count": 6,
   "id": "fa4486d5",
   "metadata": {},
   "outputs": [
    {
     "data": {
      "text/plain": [
       "(71236, 48)"
      ]
     },
     "execution_count": 6,
     "metadata": {},
     "output_type": "execute_result"
    }
   ],
   "source": [
    "df.shape"
   ]
  },
  {
   "cell_type": "code",
   "execution_count": 7,
   "id": "9de502a7",
   "metadata": {},
   "outputs": [
    {
     "data": {
      "text/plain": [
       "race                        0\n",
       "gender                      0\n",
       "age                         0\n",
       "weight                      0\n",
       "admission_type_id           0\n",
       "discharge_disposition_id    0\n",
       "admission_source_id         0\n",
       "time_in_hospital            0\n",
       "payer_code                  0\n",
       "medical_specialty           0\n",
       "num_lab_procedures          0\n",
       "num_procedures              0\n",
       "num_medications             0\n",
       "number_outpatient           0\n",
       "number_emergency            0\n",
       "number_inpatient            0\n",
       "diag_1                      0\n",
       "diag_2                      0\n",
       "diag_3                      0\n",
       "number_diagnoses            0\n",
       "max_glu_serum               0\n",
       "A1Cresult                   0\n",
       "metformin                   0\n",
       "repaglinide                 0\n",
       "nateglinide                 0\n",
       "chlorpropamide              0\n",
       "glimepiride                 0\n",
       "acetohexamide               0\n",
       "glipizide                   0\n",
       "glyburide                   0\n",
       "tolbutamide                 0\n",
       "pioglitazone                0\n",
       "rosiglitazone               0\n",
       "acarbose                    0\n",
       "miglitol                    0\n",
       "troglitazone                0\n",
       "tolazamide                  0\n",
       "examide                     0\n",
       "citoglipton                 0\n",
       "insulin                     0\n",
       "glyburide-metformin         0\n",
       "glipizide-metformin         0\n",
       "glimepiride-pioglitazone    0\n",
       "metformin-rosiglitazone     0\n",
       "metformin-pioglitazone      0\n",
       "change                      0\n",
       "diabetesMed                 0\n",
       "readmitted_NO               0\n",
       "dtype: int64"
      ]
     },
     "execution_count": 7,
     "metadata": {},
     "output_type": "execute_result"
    }
   ],
   "source": [
    "df.isnull().sum()"
   ]
  },
  {
   "cell_type": "code",
   "execution_count": 8,
   "id": "03d9d9e5",
   "metadata": {
    "scrolled": false
   },
   "outputs": [
    {
     "data": {
      "text/plain": [
       "race                        object\n",
       "gender                      object\n",
       "age                         object\n",
       "weight                      object\n",
       "admission_type_id            int64\n",
       "discharge_disposition_id     int64\n",
       "admission_source_id          int64\n",
       "time_in_hospital             int64\n",
       "payer_code                  object\n",
       "medical_specialty           object\n",
       "num_lab_procedures           int64\n",
       "num_procedures               int64\n",
       "num_medications              int64\n",
       "number_outpatient            int64\n",
       "number_emergency             int64\n",
       "number_inpatient             int64\n",
       "diag_1                      object\n",
       "diag_2                      object\n",
       "diag_3                      object\n",
       "number_diagnoses             int64\n",
       "max_glu_serum               object\n",
       "A1Cresult                   object\n",
       "metformin                   object\n",
       "repaglinide                 object\n",
       "nateglinide                 object\n",
       "chlorpropamide              object\n",
       "glimepiride                 object\n",
       "acetohexamide               object\n",
       "glipizide                   object\n",
       "glyburide                   object\n",
       "tolbutamide                 object\n",
       "pioglitazone                object\n",
       "rosiglitazone               object\n",
       "acarbose                    object\n",
       "miglitol                    object\n",
       "troglitazone                object\n",
       "tolazamide                  object\n",
       "examide                     object\n",
       "citoglipton                 object\n",
       "insulin                     object\n",
       "glyburide-metformin         object\n",
       "glipizide-metformin         object\n",
       "glimepiride-pioglitazone    object\n",
       "metformin-rosiglitazone     object\n",
       "metformin-pioglitazone      object\n",
       "change                      object\n",
       "diabetesMed                 object\n",
       "readmitted_NO                int64\n",
       "dtype: object"
      ]
     },
     "execution_count": 8,
     "metadata": {},
     "output_type": "execute_result"
    }
   ],
   "source": [
    "df.dtypes"
   ]
  },
  {
   "cell_type": "code",
   "execution_count": 9,
   "id": "104e68af",
   "metadata": {},
   "outputs": [],
   "source": [
    "from sklearn.preprocessing import LabelEncoder"
   ]
  },
  {
   "cell_type": "code",
   "execution_count": 10,
   "id": "aa9e0ab6",
   "metadata": {},
   "outputs": [],
   "source": [
    "lb = LabelEncoder()"
   ]
  },
  {
   "cell_type": "code",
   "execution_count": 11,
   "id": "7a9cbedd",
   "metadata": {},
   "outputs": [],
   "source": [
    "df['gender'] = lb.fit_transform(df['gender'])\n",
    "df['age'] = lb.fit_transform(df['age'])\n",
    "df['weight'] = lb.fit_transform(df['weight'])\n",
    "df['payer_code'] = lb.fit_transform(df['payer_code'])\n",
    "df['medical_specialty'] = lb.fit_transform(df['medical_specialty'])\n",
    "df['diag_1'] = lb.fit_transform(df['diag_1'])\n",
    "df['diag_2'] = lb.fit_transform(df['diag_2'])\n",
    "df['diag_3'] = lb.fit_transform(df['diag_3'])\n",
    "df['max_glu_serum'] = lb.fit_transform(df['max_glu_serum'])\n",
    "df['A1Cresult'] = lb.fit_transform(df['A1Cresult'])\n",
    "df['metformin'] = lb.fit_transform(df['metformin'])\n",
    "df['repaglinide'] = lb.fit_transform(df['repaglinide'])\n",
    "df['nateglinide'] = lb.fit_transform(df['nateglinide'])\n",
    "df['chlorpropamide'] = lb.fit_transform(df['chlorpropamide'])\n",
    "df['glimepiride'] = lb.fit_transform(df['glimepiride'])\n",
    "df['acetohexamide'] = lb.fit_transform(df['acetohexamide'])\n",
    "df['glipizide'] = lb.fit_transform(df['glipizide'])\n",
    "df['glyburide'] = lb.fit_transform(df['glyburide'])\n",
    "df['tolbutamide'] = lb.fit_transform(df['tolbutamide'])\n",
    "df['pioglitazone'] = lb.fit_transform(df['pioglitazone'])\n",
    "df['rosiglitazone'] = lb.fit_transform(df['rosiglitazone'])\n",
    "df['acarbose'] = lb.fit_transform(df['acarbose'])\n",
    "df['miglitol'] = lb.fit_transform(df['miglitol'])\n",
    "df['troglitazone'] = lb.fit_transform(df['troglitazone'])\n",
    "df['tolazamide'] = lb.fit_transform(df['tolazamide'])\n",
    "df['examide'] = lb.fit_transform(df['examide'])\n",
    "df['citoglipton'] = lb.fit_transform(df['citoglipton'])\n",
    "df['insulin'] = lb.fit_transform(df['insulin'])\n",
    "df['glyburide-metformin'] = lb.fit_transform(df['glyburide-metformin'])\n",
    "df['glipizide-metformin'] = lb.fit_transform(df['glipizide-metformin'])\n",
    "df['glimepiride-pioglitazone'] = lb.fit_transform(df['glimepiride-pioglitazone'])\n",
    "df['metformin-pioglitazone'] = lb.fit_transform(df['metformin-pioglitazone'])\n",
    "df['metformin-rosiglitazone'] = lb.fit_transform(df['metformin-rosiglitazone'])\n",
    "df['change'] = lb.fit_transform(df['change'])\n",
    "df['diabetesMed'] = lb.fit_transform(df['diabetesMed'])\n"
   ]
  },
  {
   "cell_type": "code",
   "execution_count": 12,
   "id": "14dd3cd1",
   "metadata": {},
   "outputs": [],
   "source": [
    "from sklearn.cluster import KMeans\n",
    "from sklearn.linear_model import LogisticRegression\n",
    "from sklearn.tree import DecisionTreeClassifier\n",
    "from sklearn.ensemble import RandomForestClassifier\n",
    "from sklearn.neighbors import KNeighborsClassifier"
   ]
  },
  {
   "cell_type": "code",
   "execution_count": 13,
   "id": "6d447ca2",
   "metadata": {},
   "outputs": [],
   "source": [
    "kmeans = KMeans(n_clusters = 3)"
   ]
  },
  {
   "cell_type": "code",
   "execution_count": 14,
   "id": "955deae2",
   "metadata": {},
   "outputs": [
    {
     "data": {
      "text/plain": [
       "race                        object\n",
       "gender                       int32\n",
       "age                          int32\n",
       "weight                       int32\n",
       "admission_type_id            int64\n",
       "discharge_disposition_id     int64\n",
       "admission_source_id          int64\n",
       "time_in_hospital             int64\n",
       "payer_code                   int32\n",
       "medical_specialty            int32\n",
       "num_lab_procedures           int64\n",
       "num_procedures               int64\n",
       "num_medications              int64\n",
       "number_outpatient            int64\n",
       "number_emergency             int64\n",
       "number_inpatient             int64\n",
       "diag_1                       int32\n",
       "diag_2                       int32\n",
       "diag_3                       int32\n",
       "number_diagnoses             int64\n",
       "max_glu_serum                int32\n",
       "A1Cresult                    int32\n",
       "metformin                    int32\n",
       "repaglinide                  int32\n",
       "nateglinide                  int32\n",
       "chlorpropamide               int32\n",
       "glimepiride                  int32\n",
       "acetohexamide                int32\n",
       "glipizide                    int32\n",
       "glyburide                    int32\n",
       "tolbutamide                  int32\n",
       "pioglitazone                 int32\n",
       "rosiglitazone                int32\n",
       "acarbose                     int32\n",
       "miglitol                     int32\n",
       "troglitazone                 int32\n",
       "tolazamide                   int32\n",
       "examide                      int32\n",
       "citoglipton                  int32\n",
       "insulin                      int32\n",
       "glyburide-metformin          int32\n",
       "glipizide-metformin          int32\n",
       "glimepiride-pioglitazone     int32\n",
       "metformin-rosiglitazone      int32\n",
       "metformin-pioglitazone       int32\n",
       "change                       int32\n",
       "diabetesMed                  int32\n",
       "readmitted_NO                int64\n",
       "dtype: object"
      ]
     },
     "execution_count": 14,
     "metadata": {},
     "output_type": "execute_result"
    }
   ],
   "source": [
    "df.dtypes"
   ]
  },
  {
   "cell_type": "code",
   "execution_count": 26,
   "id": "207b0e13",
   "metadata": {},
   "outputs": [
    {
     "name": "stdout",
     "output_type": "stream",
     "text": [
      "(71236, 46) (71236,)\n",
      "<class 'pandas.core.frame.DataFrame'> <class 'pandas.core.series.Series'>\n"
     ]
    }
   ],
   "source": [
    "p = df.iloc[:,1:-1]\n",
    "q = df.iloc[:,-1]\n",
    "print(p.shape,q.shape)\n",
    "print(type(p),type(q))"
   ]
  },
  {
   "cell_type": "code",
   "execution_count": 27,
   "id": "489e7dc3",
   "metadata": {},
   "outputs": [
    {
     "data": {
      "text/plain": [
       "array([1, 0, 1, ..., 0, 1, 0])"
      ]
     },
     "execution_count": 27,
     "metadata": {},
     "output_type": "execute_result"
    }
   ],
   "source": [
    "kmeans.fit_predict(p)"
   ]
  },
  {
   "cell_type": "code",
   "execution_count": 28,
   "id": "5ed1c99f",
   "metadata": {},
   "outputs": [],
   "source": [
    "p[\"readmitted_NO\"] = kmeans.labels_"
   ]
  },
  {
   "cell_type": "code",
   "execution_count": 29,
   "id": "da9a2b45",
   "metadata": {},
   "outputs": [
    {
     "data": {
      "text/html": [
       "<div>\n",
       "<style scoped>\n",
       "    .dataframe tbody tr th:only-of-type {\n",
       "        vertical-align: middle;\n",
       "    }\n",
       "\n",
       "    .dataframe tbody tr th {\n",
       "        vertical-align: top;\n",
       "    }\n",
       "\n",
       "    .dataframe thead th {\n",
       "        text-align: right;\n",
       "    }\n",
       "</style>\n",
       "<table border=\"1\" class=\"dataframe\">\n",
       "  <thead>\n",
       "    <tr style=\"text-align: right;\">\n",
       "      <th></th>\n",
       "      <th>gender</th>\n",
       "      <th>age</th>\n",
       "      <th>weight</th>\n",
       "      <th>admission_type_id</th>\n",
       "      <th>discharge_disposition_id</th>\n",
       "      <th>admission_source_id</th>\n",
       "      <th>time_in_hospital</th>\n",
       "      <th>payer_code</th>\n",
       "      <th>medical_specialty</th>\n",
       "      <th>num_lab_procedures</th>\n",
       "      <th>...</th>\n",
       "      <th>citoglipton</th>\n",
       "      <th>insulin</th>\n",
       "      <th>glyburide-metformin</th>\n",
       "      <th>glipizide-metformin</th>\n",
       "      <th>glimepiride-pioglitazone</th>\n",
       "      <th>metformin-rosiglitazone</th>\n",
       "      <th>metformin-pioglitazone</th>\n",
       "      <th>change</th>\n",
       "      <th>diabetesMed</th>\n",
       "      <th>readmitted_NO</th>\n",
       "    </tr>\n",
       "  </thead>\n",
       "  <tbody>\n",
       "    <tr>\n",
       "      <th>0</th>\n",
       "      <td>0</td>\n",
       "      <td>0</td>\n",
       "      <td>1</td>\n",
       "      <td>6</td>\n",
       "      <td>25</td>\n",
       "      <td>1</td>\n",
       "      <td>1</td>\n",
       "      <td>0</td>\n",
       "      <td>35</td>\n",
       "      <td>41</td>\n",
       "      <td>...</td>\n",
       "      <td>0</td>\n",
       "      <td>1</td>\n",
       "      <td>1</td>\n",
       "      <td>0</td>\n",
       "      <td>0</td>\n",
       "      <td>0</td>\n",
       "      <td>0</td>\n",
       "      <td>1</td>\n",
       "      <td>0</td>\n",
       "      <td>1</td>\n",
       "    </tr>\n",
       "    <tr>\n",
       "      <th>1</th>\n",
       "      <td>0</td>\n",
       "      <td>1</td>\n",
       "      <td>1</td>\n",
       "      <td>1</td>\n",
       "      <td>1</td>\n",
       "      <td>7</td>\n",
       "      <td>3</td>\n",
       "      <td>0</td>\n",
       "      <td>0</td>\n",
       "      <td>59</td>\n",
       "      <td>...</td>\n",
       "      <td>0</td>\n",
       "      <td>3</td>\n",
       "      <td>1</td>\n",
       "      <td>0</td>\n",
       "      <td>0</td>\n",
       "      <td>0</td>\n",
       "      <td>0</td>\n",
       "      <td>0</td>\n",
       "      <td>1</td>\n",
       "      <td>0</td>\n",
       "    </tr>\n",
       "    <tr>\n",
       "      <th>2</th>\n",
       "      <td>0</td>\n",
       "      <td>2</td>\n",
       "      <td>1</td>\n",
       "      <td>1</td>\n",
       "      <td>1</td>\n",
       "      <td>7</td>\n",
       "      <td>2</td>\n",
       "      <td>0</td>\n",
       "      <td>0</td>\n",
       "      <td>11</td>\n",
       "      <td>...</td>\n",
       "      <td>0</td>\n",
       "      <td>1</td>\n",
       "      <td>1</td>\n",
       "      <td>0</td>\n",
       "      <td>0</td>\n",
       "      <td>0</td>\n",
       "      <td>0</td>\n",
       "      <td>1</td>\n",
       "      <td>1</td>\n",
       "      <td>1</td>\n",
       "    </tr>\n",
       "    <tr>\n",
       "      <th>3</th>\n",
       "      <td>1</td>\n",
       "      <td>3</td>\n",
       "      <td>1</td>\n",
       "      <td>1</td>\n",
       "      <td>1</td>\n",
       "      <td>7</td>\n",
       "      <td>2</td>\n",
       "      <td>0</td>\n",
       "      <td>0</td>\n",
       "      <td>44</td>\n",
       "      <td>...</td>\n",
       "      <td>0</td>\n",
       "      <td>3</td>\n",
       "      <td>1</td>\n",
       "      <td>0</td>\n",
       "      <td>0</td>\n",
       "      <td>0</td>\n",
       "      <td>0</td>\n",
       "      <td>0</td>\n",
       "      <td>1</td>\n",
       "      <td>2</td>\n",
       "    </tr>\n",
       "    <tr>\n",
       "      <th>4</th>\n",
       "      <td>1</td>\n",
       "      <td>4</td>\n",
       "      <td>1</td>\n",
       "      <td>1</td>\n",
       "      <td>1</td>\n",
       "      <td>7</td>\n",
       "      <td>1</td>\n",
       "      <td>0</td>\n",
       "      <td>0</td>\n",
       "      <td>51</td>\n",
       "      <td>...</td>\n",
       "      <td>0</td>\n",
       "      <td>2</td>\n",
       "      <td>1</td>\n",
       "      <td>0</td>\n",
       "      <td>0</td>\n",
       "      <td>0</td>\n",
       "      <td>0</td>\n",
       "      <td>0</td>\n",
       "      <td>1</td>\n",
       "      <td>0</td>\n",
       "    </tr>\n",
       "    <tr>\n",
       "      <th>5</th>\n",
       "      <td>1</td>\n",
       "      <td>5</td>\n",
       "      <td>1</td>\n",
       "      <td>2</td>\n",
       "      <td>1</td>\n",
       "      <td>2</td>\n",
       "      <td>3</td>\n",
       "      <td>0</td>\n",
       "      <td>0</td>\n",
       "      <td>31</td>\n",
       "      <td>...</td>\n",
       "      <td>0</td>\n",
       "      <td>2</td>\n",
       "      <td>1</td>\n",
       "      <td>0</td>\n",
       "      <td>0</td>\n",
       "      <td>0</td>\n",
       "      <td>0</td>\n",
       "      <td>1</td>\n",
       "      <td>1</td>\n",
       "      <td>0</td>\n",
       "    </tr>\n",
       "    <tr>\n",
       "      <th>6</th>\n",
       "      <td>1</td>\n",
       "      <td>6</td>\n",
       "      <td>1</td>\n",
       "      <td>3</td>\n",
       "      <td>1</td>\n",
       "      <td>2</td>\n",
       "      <td>4</td>\n",
       "      <td>0</td>\n",
       "      <td>0</td>\n",
       "      <td>70</td>\n",
       "      <td>...</td>\n",
       "      <td>0</td>\n",
       "      <td>2</td>\n",
       "      <td>1</td>\n",
       "      <td>0</td>\n",
       "      <td>0</td>\n",
       "      <td>0</td>\n",
       "      <td>0</td>\n",
       "      <td>0</td>\n",
       "      <td>1</td>\n",
       "      <td>1</td>\n",
       "    </tr>\n",
       "    <tr>\n",
       "      <th>7</th>\n",
       "      <td>1</td>\n",
       "      <td>7</td>\n",
       "      <td>1</td>\n",
       "      <td>1</td>\n",
       "      <td>1</td>\n",
       "      <td>7</td>\n",
       "      <td>5</td>\n",
       "      <td>0</td>\n",
       "      <td>0</td>\n",
       "      <td>73</td>\n",
       "      <td>...</td>\n",
       "      <td>0</td>\n",
       "      <td>1</td>\n",
       "      <td>1</td>\n",
       "      <td>0</td>\n",
       "      <td>0</td>\n",
       "      <td>0</td>\n",
       "      <td>0</td>\n",
       "      <td>1</td>\n",
       "      <td>1</td>\n",
       "      <td>0</td>\n",
       "    </tr>\n",
       "    <tr>\n",
       "      <th>8</th>\n",
       "      <td>0</td>\n",
       "      <td>8</td>\n",
       "      <td>1</td>\n",
       "      <td>2</td>\n",
       "      <td>1</td>\n",
       "      <td>4</td>\n",
       "      <td>13</td>\n",
       "      <td>0</td>\n",
       "      <td>0</td>\n",
       "      <td>68</td>\n",
       "      <td>...</td>\n",
       "      <td>0</td>\n",
       "      <td>2</td>\n",
       "      <td>1</td>\n",
       "      <td>0</td>\n",
       "      <td>0</td>\n",
       "      <td>0</td>\n",
       "      <td>0</td>\n",
       "      <td>0</td>\n",
       "      <td>1</td>\n",
       "      <td>0</td>\n",
       "    </tr>\n",
       "    <tr>\n",
       "      <th>9</th>\n",
       "      <td>0</td>\n",
       "      <td>9</td>\n",
       "      <td>1</td>\n",
       "      <td>3</td>\n",
       "      <td>3</td>\n",
       "      <td>4</td>\n",
       "      <td>12</td>\n",
       "      <td>0</td>\n",
       "      <td>17</td>\n",
       "      <td>33</td>\n",
       "      <td>...</td>\n",
       "      <td>0</td>\n",
       "      <td>2</td>\n",
       "      <td>1</td>\n",
       "      <td>0</td>\n",
       "      <td>0</td>\n",
       "      <td>0</td>\n",
       "      <td>0</td>\n",
       "      <td>0</td>\n",
       "      <td>1</td>\n",
       "      <td>0</td>\n",
       "    </tr>\n",
       "    <tr>\n",
       "      <th>10</th>\n",
       "      <td>0</td>\n",
       "      <td>4</td>\n",
       "      <td>1</td>\n",
       "      <td>1</td>\n",
       "      <td>1</td>\n",
       "      <td>7</td>\n",
       "      <td>9</td>\n",
       "      <td>0</td>\n",
       "      <td>0</td>\n",
       "      <td>47</td>\n",
       "      <td>...</td>\n",
       "      <td>0</td>\n",
       "      <td>2</td>\n",
       "      <td>1</td>\n",
       "      <td>0</td>\n",
       "      <td>0</td>\n",
       "      <td>0</td>\n",
       "      <td>0</td>\n",
       "      <td>1</td>\n",
       "      <td>1</td>\n",
       "      <td>1</td>\n",
       "    </tr>\n",
       "  </tbody>\n",
       "</table>\n",
       "<p>11 rows × 47 columns</p>\n",
       "</div>"
      ],
      "text/plain": [
       "    gender  age  weight  admission_type_id  discharge_disposition_id  \\\n",
       "0        0    0       1                  6                        25   \n",
       "1        0    1       1                  1                         1   \n",
       "2        0    2       1                  1                         1   \n",
       "3        1    3       1                  1                         1   \n",
       "4        1    4       1                  1                         1   \n",
       "5        1    5       1                  2                         1   \n",
       "6        1    6       1                  3                         1   \n",
       "7        1    7       1                  1                         1   \n",
       "8        0    8       1                  2                         1   \n",
       "9        0    9       1                  3                         3   \n",
       "10       0    4       1                  1                         1   \n",
       "\n",
       "    admission_source_id  time_in_hospital  payer_code  medical_specialty  \\\n",
       "0                     1                 1           0                 35   \n",
       "1                     7                 3           0                  0   \n",
       "2                     7                 2           0                  0   \n",
       "3                     7                 2           0                  0   \n",
       "4                     7                 1           0                  0   \n",
       "5                     2                 3           0                  0   \n",
       "6                     2                 4           0                  0   \n",
       "7                     7                 5           0                  0   \n",
       "8                     4                13           0                  0   \n",
       "9                     4                12           0                 17   \n",
       "10                    7                 9           0                  0   \n",
       "\n",
       "    num_lab_procedures  ...  citoglipton  insulin  glyburide-metformin  \\\n",
       "0                   41  ...            0        1                    1   \n",
       "1                   59  ...            0        3                    1   \n",
       "2                   11  ...            0        1                    1   \n",
       "3                   44  ...            0        3                    1   \n",
       "4                   51  ...            0        2                    1   \n",
       "5                   31  ...            0        2                    1   \n",
       "6                   70  ...            0        2                    1   \n",
       "7                   73  ...            0        1                    1   \n",
       "8                   68  ...            0        2                    1   \n",
       "9                   33  ...            0        2                    1   \n",
       "10                  47  ...            0        2                    1   \n",
       "\n",
       "    glipizide-metformin  glimepiride-pioglitazone  metformin-rosiglitazone  \\\n",
       "0                     0                         0                        0   \n",
       "1                     0                         0                        0   \n",
       "2                     0                         0                        0   \n",
       "3                     0                         0                        0   \n",
       "4                     0                         0                        0   \n",
       "5                     0                         0                        0   \n",
       "6                     0                         0                        0   \n",
       "7                     0                         0                        0   \n",
       "8                     0                         0                        0   \n",
       "9                     0                         0                        0   \n",
       "10                    0                         0                        0   \n",
       "\n",
       "    metformin-pioglitazone  change  diabetesMed  readmitted_NO  \n",
       "0                        0       1            0              1  \n",
       "1                        0       0            1              0  \n",
       "2                        0       1            1              1  \n",
       "3                        0       0            1              2  \n",
       "4                        0       0            1              0  \n",
       "5                        0       1            1              0  \n",
       "6                        0       0            1              1  \n",
       "7                        0       1            1              0  \n",
       "8                        0       0            1              0  \n",
       "9                        0       0            1              0  \n",
       "10                       0       1            1              1  \n",
       "\n",
       "[11 rows x 47 columns]"
      ]
     },
     "execution_count": 29,
     "metadata": {},
     "output_type": "execute_result"
    }
   ],
   "source": [
    "p.head(11)"
   ]
  },
  {
   "cell_type": "code",
   "execution_count": 30,
   "id": "05677248",
   "metadata": {},
   "outputs": [
    {
     "data": {
      "text/plain": [
       "0     1\n",
       "1     0\n",
       "2     1\n",
       "3     1\n",
       "4     1\n",
       "5     0\n",
       "6     1\n",
       "7     0\n",
       "8     1\n",
       "9     1\n",
       "10    0\n",
       "Name: readmitted_NO, dtype: int64"
      ]
     },
     "execution_count": 30,
     "metadata": {},
     "output_type": "execute_result"
    }
   ],
   "source": [
    "q.head(11)"
   ]
  },
  {
   "cell_type": "code",
   "execution_count": 31,
   "id": "8d86e276",
   "metadata": {},
   "outputs": [],
   "source": [
    "from sklearn.model_selection import train_test_split"
   ]
  },
  {
   "cell_type": "code",
   "execution_count": 32,
   "id": "c28baaa4",
   "metadata": {},
   "outputs": [
    {
     "name": "stdout",
     "output_type": "stream",
     "text": [
      "(56988, 47)\n",
      "(14248, 47)\n",
      "(56988,)\n",
      "(14248,)\n"
     ]
    }
   ],
   "source": [
    "p_tr,p_te,q_tr,q_te = train_test_split(p,q,test_size=0.20)\n",
    "print(p_tr.shape)\n",
    "print(p_te.shape)\n",
    "print(q_tr.shape)\n",
    "print(q_te.shape)"
   ]
  },
  {
   "cell_type": "code",
   "execution_count": 35,
   "id": "c3b0939c",
   "metadata": {},
   "outputs": [
    {
     "data": {
      "image/png": "[encoded data removed]",
      "text/plain": [
       "<Figure size 1440x576 with 1 Axes>"
      ]
     },
     "metadata": {
      "needs_background": "light"
     },
     "output_type": "display_data"
    }
   ],
   "source": [
    "plt.figure(figsize = (20,8))\n",
    "sns.scatterplot(x = \"time_in_hospital\", y = \"num_lab_procedures\", data = p, hue = \"readmitted_NO\")\n",
    "plt.title(\"Num_lab_procedures vs Time_in_Hospital\")\n",
    "plt.xlabel(\"Time_in_Hospital\")\n",
    "plt.ylabel(\"Num_lab_Procedures\")\n",
    "plt.show()"
   ]
  },
  {
   "cell_type": "code",
   "execution_count": 36,
   "id": "d3f394f8",
   "metadata": {},
   "outputs": [
    {
     "data": {
      "text/plain": [
       "3057488502.014615"
      ]
     },
     "execution_count": 36,
     "metadata": {},
     "output_type": "execute_result"
    }
   ],
   "source": [
    "kmeans.inertia_"
   ]
  },
  {
   "cell_type": "code",
   "execution_count": 37,
   "id": "1fdbd497",
   "metadata": {},
   "outputs": [],
   "source": [
    "from sklearn.metrics import confusion_matrix,classification_report"
   ]
  },
  {
   "cell_type": "code",
   "execution_count": 38,
   "id": "94a4f73b",
   "metadata": {},
   "outputs": [],
   "source": [
    "def apply_model(model):\n",
    "    model.fit(p_tr,q_tr)\n",
    "    print('Accuracy',model.score(p_te,q_te))\n",
    "    qpred = model.predict(p_te)\n",
    "    print('Predicted values\\n',qpred)\n",
    "    cm = confusion_matrix(q_te,qpred)\n",
    "    print('Confusion Matrix\\n',cm)\n",
    "    sns.heatmap(cm,annot=True)\n",
    "    plt.show()\n",
    "    print('Classification report\\n',classification_report(q_te,qpred))"
   ]
  },
  {
   "cell_type": "code",
   "execution_count": 39,
   "id": "b168bd13",
   "metadata": {},
   "outputs": [
    {
     "name": "stderr",
     "output_type": "stream",
     "text": [
      "C:\\Users\\bidyu\\anaconda3\\lib\\site-packages\\sklearn\\linear_model\\_logistic.py:763: ConvergenceWarning: lbfgs failed to converge (status=1):\n",
      "STOP: TOTAL NO. of ITERATIONS REACHED LIMIT.\n",
      "\n",
      "Increase the number of iterations (max_iter) or scale the data as shown in:\n",
      "    https://scikit-learn.org/stable/modules/preprocessing.html\n",
      "Please also refer to the documentation for alternative solver options:\n",
      "    https://scikit-learn.org/stable/modules/linear_model.html#logistic-regression\n",
      "  n_iter_i = _check_optimize_result(\n"
     ]
    },
    {
     "name": "stdout",
     "output_type": "stream",
     "text": [
      "Accuracy 0.5979084783829309\n",
      "Predicted values\n",
      " [1 1 1 ... 1 0 0]\n",
      "Confusion Matrix\n",
      " [[3432 3374]\n",
      " [2355 5087]]\n"
     ]
    },
    {
     "data": {
      "image/png": "[encoded data removed]",
      "text/plain": [
       "<Figure size 432x288 with 2 Axes>"
      ]
     },
     "metadata": {
      "needs_background": "light"
     },
     "output_type": "display_data"
    },
    {
     "name": "stdout",
     "output_type": "stream",
     "text": [
      "Classification report\n",
      "               precision    recall  f1-score   support\n",
      "\n",
      "           0       0.59      0.50      0.55      6806\n",
      "           1       0.60      0.68      0.64      7442\n",
      "\n",
      "    accuracy                           0.60     14248\n",
      "   macro avg       0.60      0.59      0.59     14248\n",
      "weighted avg       0.60      0.60      0.59     14248\n",
      "\n"
     ]
    }
   ],
   "source": [
    "# 1) LogReg\n",
    "m1 = LogisticRegression()\n",
    "apply_model(m1)"
   ]
  },
  {
   "cell_type": "code",
   "execution_count": 40,
   "id": "201d93e7",
   "metadata": {},
   "outputs": [
    {
     "name": "stdout",
     "output_type": "stream",
     "text": [
      "Accuracy 0.6258422234699607\n",
      "Predicted values\n",
      " [1 1 1 ... 1 0 0]\n",
      "Confusion Matrix\n",
      " [[3261 3545]\n",
      " [1786 5656]]\n"
     ]
    },
    {
     "data": {
      "image/png": "[encoded data removed]",
      "text/plain": [
       "<Figure size 432x288 with 2 Axes>"
      ]
     },
     "metadata": {
      "needs_background": "light"
     },
     "output_type": "display_data"
    },
    {
     "name": "stdout",
     "output_type": "stream",
     "text": [
      "Classification report\n",
      "               precision    recall  f1-score   support\n",
      "\n",
      "           0       0.65      0.48      0.55      6806\n",
      "           1       0.61      0.76      0.68      7442\n",
      "\n",
      "    accuracy                           0.63     14248\n",
      "   macro avg       0.63      0.62      0.61     14248\n",
      "weighted avg       0.63      0.63      0.62     14248\n",
      "\n"
     ]
    }
   ],
   "source": [
    "# 2) Decision Tree\n",
    "m2 = DecisionTreeClassifier(criterion='gini',max_depth=5,min_samples_split=10)\n",
    "apply_model(m2)"
   ]
  },
  {
   "cell_type": "code",
   "execution_count": 41,
   "id": "72cd27ec",
   "metadata": {},
   "outputs": [
    {
     "name": "stdout",
     "output_type": "stream",
     "text": [
      "Accuracy 0.6279477821448625\n",
      "Predicted values\n",
      " [1 1 1 ... 1 0 0]\n",
      "Confusion Matrix\n",
      " [[3211 3595]\n",
      " [1706 5736]]\n"
     ]
    },
    {
     "data": {
      "image/png": "[encoded data removed]",
      "text/plain": [
       "<Figure size 432x288 with 2 Axes>"
      ]
     },
     "metadata": {
      "needs_background": "light"
     },
     "output_type": "display_data"
    },
    {
     "name": "stdout",
     "output_type": "stream",
     "text": [
      "Classification report\n",
      "               precision    recall  f1-score   support\n",
      "\n",
      "           0       0.65      0.47      0.55      6806\n",
      "           1       0.61      0.77      0.68      7442\n",
      "\n",
      "    accuracy                           0.63     14248\n",
      "   macro avg       0.63      0.62      0.62     14248\n",
      "weighted avg       0.63      0.63      0.62     14248\n",
      "\n"
     ]
    }
   ],
   "source": [
    "# 3) Random Forest\n",
    "m3 = RandomForestClassifier(n_estimators=70,criterion='gini',max_depth=5,min_samples_split=10)\n",
    "apply_model(m3)"
   ]
  },
  {
   "cell_type": "code",
   "execution_count": 42,
   "id": "b83b521b",
   "metadata": {},
   "outputs": [
    {
     "name": "stdout",
     "output_type": "stream",
     "text": [
      "Accuracy 0.5409180235822572\n",
      "Predicted values\n",
      " [1 1 1 ... 1 1 0]\n",
      "Confusion Matrix\n",
      " [[3236 3570]\n",
      " [2971 4471]]\n"
     ]
    },
    {
     "data": {
      "image/png": "[encoded data removed]",
      "text/plain": [
       "<Figure size 432x288 with 2 Axes>"
      ]
     },
     "metadata": {
      "needs_background": "light"
     },
     "output_type": "display_data"
    },
    {
     "name": "stdout",
     "output_type": "stream",
     "text": [
      "Classification report\n",
      "               precision    recall  f1-score   support\n",
      "\n",
      "           0       0.52      0.48      0.50      6806\n",
      "           1       0.56      0.60      0.58      7442\n",
      "\n",
      "    accuracy                           0.54     14248\n",
      "   macro avg       0.54      0.54      0.54     14248\n",
      "weighted avg       0.54      0.54      0.54     14248\n",
      "\n"
     ]
    }
   ],
   "source": [
    "# 4) KNN\n",
    "m4 = KNeighborsClassifier(n_neighbors=27)\n",
    "apply_model(m4)"
   ]
  },
  {
   "cell_type": "code",
   "execution_count": 48,
   "id": "d5545be5",
   "metadata": {},
   "outputs": [
    {
     "name": "stdout",
     "output_type": "stream",
     "text": [
      "The model with the best accuracy is 'Random Forest' with an accuracy of 0.6279477821448625 !!!\n"
     ]
    }
   ],
   "source": [
    "print(\"The model with the best accuracy is 'Random Forest' with an accuracy of 0.6279477821448625 !!!\")"
   ]
  }
 ],
 "metadata": {
  "kernelspec": {
   "display_name": "Python 3 (ipykernel)",
   "language": "python",
   "name": "python3"
  },
  "language_info": {
   "codemirror_mode": {
    "name": "ipython",
    "version": 3
   },
   "file_extension": ".py",
   "mimetype": "text/x-python",
   "name": "python",
   "nbconvert_exporter": "python",
   "pygments_lexer": "ipython3",
   "version": "3.9.7"
  }
 },
 "nbformat": 4,
 "nbformat_minor": 5
}
